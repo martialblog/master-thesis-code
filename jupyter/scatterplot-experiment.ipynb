{
 "cells": [
  {
   "cell_type": "code",
   "execution_count": null,
   "metadata": {},
   "outputs": [],
   "source": [
    "import numpy as np\n",
    "import scipy\n",
    "import sklearn.manifold\n",
    "import seaborn as sns\n",
    "import matplotlib.pyplot as plt\n",
    "import umap\n",
    "import pandas\n",
    "import pickle\n",
    "import os\n",
    "import collections"
   ]
  },
  {
   "cell_type": "code",
   "execution_count": null,
   "metadata": {},
   "outputs": [],
   "source": [
    "INPUT = '../../histnorm/datasets/historical/german/german-anselm.test.txt'\n",
    "ENCODING = 'utf-8'\n",
    "CORPUS_NAME = 'german-anselm'\n",
    "\n",
    "# Loading input file, which has the original and modernised token in each line separated by a \\t\n",
    "with open(INPUT, 'r', encoding=ENCODING) as infile:\n",
    "    tokens = [line.strip().split('\\t') for line in infile]"
   ]
  },
  {
   "cell_type": "code",
   "execution_count": null,
   "metadata": {},
   "outputs": [],
   "source": [
    "# Getting the original and modernised tokens and types\n",
    "tokens_original = [token[0] for token in tokens[:5000]]\n",
    "tokens_modernised = [token[1] for token in tokens[:5000]]\n",
    "types_original = list(set(tokens_original))\n",
    "types_modernised = list(set(tokens_modernised))"
   ]
  },
  {
   "cell_type": "code",
   "execution_count": null,
   "metadata": {},
   "outputs": [],
   "source": [
    "def levenshtein(string1, string2):\n",
    "    \"\"\"\n",
    "    Levenshtein Distance between two strings\n",
    "    \"\"\"\n",
    "    if string1 == string2:\n",
    "        return 0\n",
    "\n",
    "    rows = len(string1) + 1\n",
    "    cols = len(string2) + 1\n",
    "    dist = [[0 for c in range(cols)] for r in range(rows)]\n",
    "\n",
    "    for j in range(1, rows):\n",
    "        dist[j][0] = j\n",
    "    for i in range(1, cols):\n",
    "        dist[0][i] = i\n",
    "\n",
    "    for col in range(1, cols):\n",
    "        for row in range(1, rows):\n",
    "            cost = 1\n",
    "            if string1[row - 1] == string2[col - 1]:\n",
    "                cost = 0\n",
    "            dist[row][col] = min(dist[row - 1][col] + 1, dist[row][col - 1] + 1, dist[row - 1][col - 1] + cost)\n",
    "\n",
    "    return dist[row][col]\n",
    "\n",
    "assert levenshtein('foobar', 'foobar') == 0\n",
    "assert levenshtein('foobar', 'foubar') == 1\n",
    "assert levenshtein('foobar', 'fuubar') == 2"
   ]
  },
  {
   "cell_type": "code",
   "execution_count": null,
   "metadata": {},
   "outputs": [],
   "source": [
    "def jaro(string1, string2):\n",
    "\n",
    "    length1 = len(string1)\n",
    "    length2 = len(string2)\n",
    "   \n",
    "    if length1 == 0:\n",
    "        return 0.0\n",
    "    \n",
    "    if string1 == string2:\n",
    "        return 1.0   \n",
    "\n",
    "    match_bound = max(length1, length2) // 2 - 1\n",
    "\n",
    "    matches = 0  \n",
    "    transpositions = 0\n",
    "\n",
    "    flagged_1 = [] \n",
    "    flagged_2 = []\n",
    "\n",
    "    for i in range(length1):\n",
    "        upperbound = min(i + match_bound, length2 - 1)\n",
    "        lowerbound = max(0, i - match_bound)\n",
    "        for j in range(lowerbound, upperbound + 1):\n",
    "            if string1[i] == string2[j] and j not in flagged_2:\n",
    "                matches += 1\n",
    "                flagged_1.append(i)\n",
    "                flagged_2.append(j)\n",
    "                break\n",
    "\n",
    "    flagged_2.sort()\n",
    "\n",
    "    for i, j in zip(flagged_1, flagged_2):\n",
    "        if string1[i] != string2[j]:\n",
    "            transpositions += 1\n",
    "\n",
    "    if matches == 0:\n",
    "        return 0.0\n",
    "\n",
    "    return (1/3 * ( matches / length1 + matches / length2 + (matches - transpositions // 2) / matches))\n",
    "\n",
    "assert jaro('foobar', 'foobar') == 1.0\n",
    "assert jaro('foobar', 'barfoo') == 0.4444444444444444\n",
    "assert jaro('duane', 'dwayne') == 0.8222222222222222\n",
    "assert jaro('hans', 'gruber') == 0.0"
   ]
  },
  {
   "cell_type": "code",
   "execution_count": null,
   "metadata": {},
   "outputs": [],
   "source": [
    "# Example of two similarity measures\n",
    "tmp_reshape = np.array(types_original[:5]).reshape(-1,1)\n",
    "\n",
    "tmp_levenshtein_distance = scipy.spatial.distance.pdist(tmp_reshape, lambda x,y: levenshtein(str(x[0]),str(y[0])))   \n",
    "tmp_jaro_distance = scipy.spatial.distance.pdist(tmp_reshape, lambda x,y: jaro(str(x[0]),str(y[0])))   \n",
    "\n",
    "tmp_levenshtein_matrix = pandas.DataFrame(scipy.spatial.distance.squareform(tmp_levenshtein_distance), index=types_original[:5], columns=types_original[:5])\n",
    "tmp_jaro_matrix = pandas.DataFrame(scipy.spatial.distance.squareform(tmp_jaro_distance), index=types_original[:5], columns=types_original[:5])\n",
    "\n",
    "print(tmp_levenshtein_matrix)\n",
    "print(tmp_jaro_matrix)"
   ]
  },
  {
   "cell_type": "code",
   "execution_count": null,
   "metadata": {},
   "outputs": [],
   "source": [
    "%%time\n",
    "\n",
    "types_original_reshaped = np.array(types_original).reshape(-1,1)\n",
    "types_original_pairwise_distance_levenshtein = scipy.spatial.distance.pdist(types_original_reshaped, lambda x,y: levenshtein(str(x[0]),str(y[0])))   \n",
    "types_original_pairwise_distance_jaro = scipy.spatial.distance.pdist(types_original_reshaped, lambda x,y: jaro(str(x[0]),str(y[0])))   \n",
    "\n",
    "types_modernised_reshaped = np.array(types_modernised).reshape(-1,1)\n",
    "types_modernised_pairwise_distance_levenshtein = scipy.spatial.distance.pdist(types_modernised_reshaped, lambda x,y: levenshtein(str(x[0]),str(y[0]))) \n",
    "types_modernised_pairwise_distance_jaro = scipy.spatial.distance.pdist(types_modernised_reshaped, lambda x,y: jaro(str(x[0]),str(y[0])))   "
   ]
  },
  {
   "cell_type": "code",
   "execution_count": null,
   "metadata": {},
   "outputs": [],
   "source": [
    "%%time\n",
    "# Transforming pairwise distances into a full similarity matrix\n",
    "original_distance_matrix_levenshtein = pandas.DataFrame(scipy.spatial.distance.squareform(types_original_pairwise_distance_levenshtein), index=types_original, columns=types_original)\n",
    "modernised_distance_matrix_levenshtein = pandas.DataFrame(scipy.spatial.distance.squareform(types_modernised_pairwise_distance_levenshtein), index=types_modernised, columns=types_modernised)\n",
    "\n",
    "original_distance_matrix_jaro = pandas.DataFrame(scipy.spatial.distance.squareform(types_original_pairwise_distance_jaro), index=types_original, columns=types_original)\n",
    "modernised_distance_matrix_jaro = pandas.DataFrame(scipy.spatial.distance.squareform(types_modernised_pairwise_distance_jaro), index=types_modernised, columns=types_modernised)"
   ]
  },
  {
   "cell_type": "code",
   "execution_count": null,
   "metadata": {},
   "outputs": [],
   "source": [
    "%%time\n",
    "\n",
    "original_similarity_embedded_umap_levenshtein = umap.UMAP(n_components=3).fit_transform(original_distance_matrix_levenshtein)\n",
    "modernised_similarity_embedded_umap_levenshtein = umap.UMAP(n_components=3).fit_transform(modernised_distance_matrix_levenshtein)\n",
    "\n",
    "original_similarity_embedded_umap_jaro = umap.UMAP(n_components=3).fit_transform(original_distance_matrix_jaro)\n",
    "modernised_similarity_embedded_umap_jaro = umap.UMAP(n_components=3).fit_transform(modernised_distance_matrix_jaro)"
   ]
  },
  {
   "cell_type": "code",
   "execution_count": null,
   "metadata": {},
   "outputs": [],
   "source": [
    "original_umap_levenshtein = pandas.DataFrame()\n",
    "original_umap_levenshtein['umap-x-original'] = original_similarity_embedded_umap_levenshtein[:,0]\n",
    "original_umap_levenshtein['umap-y-original'] = original_similarity_embedded_umap_levenshtein[:,1]\n",
    "original_umap_levenshtein['umap-z-original'] = original_similarity_embedded_umap_levenshtein[:,2]\n",
    "original_umap_levenshtein['token'] = original_distance_matrix_levenshtein.index\n",
    "\n",
    "modernised_umap_levenshtein = pandas.DataFrame()\n",
    "modernised_umap_levenshtein['umap-x-modernised'] = modernised_similarity_embedded_umap_levenshtein[:,0]\n",
    "modernised_umap_levenshtein['umap-y-modernised'] = modernised_similarity_embedded_umap_levenshtein[:,1]\n",
    "modernised_umap_levenshtein['umap-z-modernised'] = modernised_similarity_embedded_umap_levenshtein[:,2]\n",
    "modernised_umap_levenshtein['token'] = modernised_distance_matrix_levenshtein.index"
   ]
  },
  {
   "cell_type": "code",
   "execution_count": null,
   "metadata": {},
   "outputs": [],
   "source": [
    "original_umap_jaro = pandas.DataFrame()\n",
    "original_umap_jaro['umap-x-original'] = original_similarity_embedded_umap_jaro[:,0]\n",
    "original_umap_jaro['umap-y-original'] = original_similarity_embedded_umap_jaro[:,1]\n",
    "original_umap_jaro['umap-z-original'] = original_similarity_embedded_umap_jaro[:,2]\n",
    "original_umap_jaro['token'] = original_distance_matrix_jaro.index\n",
    "\n",
    "modernised_umap_jaro = pandas.DataFrame()\n",
    "modernised_umap_jaro['umap-x-modernised'] = modernised_similarity_embedded_umap_jaro[:,0]\n",
    "modernised_umap_jaro['umap-y-modernised'] = modernised_similarity_embedded_umap_jaro[:,1]\n",
    "modernised_umap_jaro['umap-z-modernised'] = modernised_similarity_embedded_umap_jaro[:,2]\n",
    "modernised_umap_jaro['token'] = modernised_distance_matrix_jaro.index"
   ]
  },
  {
   "cell_type": "code",
   "execution_count": null,
   "metadata": {},
   "outputs": [],
   "source": [
    "import plotly.graph_objects as go\n",
    "\n",
    "fig = go.Figure(data=[go.Scatter3d(\n",
    "    x=modernised_umap_levenshtein['umap-x-modernised'],\n",
    "    y=modernised_umap_levenshtein['umap-y-modernised'],\n",
    "    z=modernised_umap_levenshtein['umap-z-modernised'],\n",
    "    mode='markers',\n",
    "    text=modernised_umap_levenshtein['token'],\n",
    "    marker=dict(\n",
    "        size=2,\n",
    "        opacity=1\n",
    "    )\n",
    ")])\n",
    "fig.update_layout(margin=dict(l=0, r=0, b=0, t=0))\n",
    "fig.show()"
   ]
  },
  {
   "cell_type": "code",
   "execution_count": null,
   "metadata": {},
   "outputs": [],
   "source": [
    "import plotly.graph_objects as go\n",
    "\n",
    "fig = go.Figure(data=[go.Scatter3d(\n",
    "    x=modernised_umap_jaro['umap-x-modernised'],\n",
    "    y=modernised_umap_jaro['umap-y-modernised'],\n",
    "    z=modernised_umap_jaro['umap-z-modernised'],\n",
    "    mode='markers',\n",
    "    text=modernised_umap_jaro['token'],\n",
    "    marker=dict(\n",
    "        color='orange',\n",
    "        size=2,\n",
    "        opacity=1\n",
    "    )\n",
    ")])\n",
    "fig.update_layout(margin=dict(l=0, r=0, b=0, t=0))\n",
    "fig.show()"
   ]
  },
  {
   "cell_type": "code",
   "execution_count": null,
   "metadata": {},
   "outputs": [],
   "source": [
    "%%time\n",
    "\n",
    "original_similarity_embedded_umap_levenshtein_2d = umap.UMAP(n_components=2).fit_transform(original_distance_matrix_levenshtein)\n",
    "modernised_similarity_embedded_umap_levenshtein_2d = umap.UMAP(n_components=2).fit_transform(modernised_distance_matrix_levenshtein)\n",
    "\n",
    "original_similarity_embedded_umap_jaro_2d = umap.UMAP(n_components=2).fit_transform(original_distance_matrix_jaro)\n",
    "modernised_similarity_embedded_umap_jaro_2d = umap.UMAP(n_components=2).fit_transform(modernised_distance_matrix_jaro)"
   ]
  },
  {
   "cell_type": "code",
   "execution_count": null,
   "metadata": {},
   "outputs": [],
   "source": [
    "original_umap_levenshtein_2d = pandas.DataFrame()\n",
    "original_umap_levenshtein_2d['umap-x-original'] = original_similarity_embedded_umap_levenshtein_2d[:,0]\n",
    "original_umap_levenshtein_2d['umap-y-original'] = original_similarity_embedded_umap_levenshtein_2d[:,1]\n",
    "original_umap_levenshtein_2d['token'] = original_distance_matrix_levenshtein.index\n",
    "\n",
    "modernised_umap_levenshtein_2d = pandas.DataFrame()\n",
    "modernised_umap_levenshtein_2d['umap-x-modernised'] = modernised_similarity_embedded_umap_levenshtein_2d[:,0]\n",
    "modernised_umap_levenshtein_2d['umap-y-modernised'] = modernised_similarity_embedded_umap_levenshtein_2d[:,1]\n",
    "modernised_umap_levenshtein_2d['token'] = modernised_distance_matrix_levenshtein.index\n",
    "\n",
    "original_umap_jaro_2d = pandas.DataFrame()\n",
    "original_umap_jaro_2d['umap-x-original'] = original_similarity_embedded_umap_jaro_2d[:,0]\n",
    "original_umap_jaro_2d['umap-y-original'] = original_similarity_embedded_umap_jaro_2d[:,1]\n",
    "original_umap_jaro_2d['token'] = original_distance_matrix_jaro.index\n",
    "\n",
    "modernised_umap_jaro_2d = pandas.DataFrame()\n",
    "modernised_umap_jaro_2d['umap-x-modernised'] = modernised_similarity_embedded_umap_jaro_2d[:,0]\n",
    "modernised_umap_jaro_2d['umap-y-modernised'] = modernised_similarity_embedded_umap_jaro_2d[:,1]\n",
    "modernised_umap_jaro_2d['token'] = modernised_distance_matrix_jaro.index"
   ]
  },
  {
   "cell_type": "code",
   "execution_count": null,
   "metadata": {},
   "outputs": [],
   "source": [
    "import plotly.graph_objects as go\n",
    "\n",
    "fig = go.Figure(data=[go.Scatter(\n",
    "    x=modernised_umap_levenshtein_2d['umap-x-modernised'],\n",
    "    y=modernised_umap_levenshtein_2d['umap-y-modernised'],\n",
    "    mode='markers',\n",
    "    text=modernised_umap_levenshtein_2d['token'],\n",
    "    marker=dict(\n",
    "        color='steelblue',\n",
    "    )\n",
    ")])\n",
    "fig.update_layout(margin=dict(l=0, r=0, b=0, t=0))\n",
    "fig.show()"
   ]
  },
  {
   "cell_type": "code",
   "execution_count": null,
   "metadata": {},
   "outputs": [],
   "source": [
    "import plotly.graph_objects as go\n",
    "\n",
    "fig = go.Figure(data=[go.Scatter(\n",
    "    x=modernised_umap_jaro_2d['umap-x-modernised'],\n",
    "    y=modernised_umap_jaro_2d['umap-y-modernised'],\n",
    "    mode='markers',\n",
    "    text=modernised_umap_jaro_2d['token'],\n",
    "    marker=dict(\n",
    "        color='orange',\n",
    "    )\n",
    ")])\n",
    "fig.update_layout(margin=dict(l=0, r=0, b=0, t=0))\n",
    "fig.show()"
   ]
  },
  {
   "cell_type": "code",
   "execution_count": null,
   "metadata": {},
   "outputs": [],
   "source": []
  }
 ],
 "metadata": {
  "kernelspec": {
   "display_name": "Python 3",
   "language": "python",
   "name": "python3"
  },
  "language_info": {
   "codemirror_mode": {
    "name": "ipython",
    "version": 3
   },
   "file_extension": ".py",
   "mimetype": "text/x-python",
   "name": "python",
   "nbconvert_exporter": "python",
   "pygments_lexer": "ipython3",
   "version": "3.6.9"
  }
 },
 "nbformat": 4,
 "nbformat_minor": 4
}
